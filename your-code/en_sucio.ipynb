{
 "cells": [
  {
   "cell_type": "code",
   "execution_count": 1,
   "metadata": {},
   "outputs": [],
   "source": [
    "import pandas as pd\n",
    "from selenium.webdriver.chrome.options import Options\n",
    "from webdriver_manager.chrome import ChromeDriverManager\n",
    "from selenium import webdriver"
   ]
  },
  {
   "cell_type": "code",
   "execution_count": 2,
   "metadata": {},
   "outputs": [],
   "source": [
    "import warnings\n",
    "warnings.filterwarnings('ignore')\n",
    "\n",
    "from selenium.webdriver.common.by import By"
   ]
  },
  {
   "cell_type": "code",
   "execution_count": null,
   "metadata": {},
   "outputs": [],
   "source": [
    "PATH = 'driver/chromedriver'\n",
    "\n",
    "#driver = webdriver.Chrome()   # abre una ventana de chrome\n",
    "\n",
    "#driver.get # no tiene que ser google, pon la que pidan en el ejer ('https://www.google.es')\n",
    "\n"
   ]
  },
  {
   "cell_type": "markdown",
   "metadata": {},
   "source": [
    "#### Display the names of the trending developers retrieved in the previous step.\n",
    "\n",
    "Your output should be a Python list of developer names. Each name should not contain any html tag.\n",
    "\n",
    "**Instructions:**\n",
    "\n",
    "1. Find out the html tag and class names used for the developer names.\n",
    "\n",
    "1. Use string manipulation techniques to replace whitespaces and linebreaks (i.e. `\\n`) in the *text* of each html element. Use a list to store the clean names.\n",
    "\n",
    "1. Print the list of names.\n",
    "\n",
    "Your output should look like below:"
   ]
  },
  {
   "cell_type": "code",
   "execution_count": null,
   "metadata": {},
   "outputs": [],
   "source": [
    "url = 'https://github.com/trending/developers'\n",
    "\n",
    "driver = webdriver.Chrome()\n",
    "\n",
    "driver.get(url)"
   ]
  },
  {
   "cell_type": "code",
   "execution_count": null,
   "metadata": {},
   "outputs": [],
   "source": []
  },
  {
   "cell_type": "code",
   "execution_count": null,
   "metadata": {},
   "outputs": [],
   "source": [
    "develp = driver.find_element(By.CSS_SELECTOR, 'body > div.logged-out.env-production.page-responsive > div.application-main > main > div.position-relative.container-lg.p-responsive.pt-6 > div').find_elements(By.TAG_NAME, 'h1').find_elements(By.TAG_NAME, 'p')\n",
    "\n",
    "develp\n"
   ]
  },
  {
   "cell_type": "code",
   "execution_count": null,
   "metadata": {},
   "outputs": [],
   "source": []
  },
  {
   "cell_type": "code",
   "execution_count": null,
   "metadata": {},
   "outputs": [],
   "source": [
    "for d in develp:\n",
    "    print (d.text)"
   ]
  },
  {
   "cell_type": "code",
   "execution_count": null,
   "metadata": {},
   "outputs": [],
   "source": [
    "develp_usr = driver.find_element(By.CSS_SELECTOR, 'body > div.logged-out.env-production.page-responsive > div.application-main > main > div.position-relative.container-lg.p-responsive.pt-6 > div').find_elements(By.TAG_NAME, 'p')\n",
    "\n",
    "develp_usr"
   ]
  },
  {
   "cell_type": "code",
   "execution_count": null,
   "metadata": {},
   "outputs": [],
   "source": [
    "for u in develp_usr:\n",
    "    print (u.text)"
   ]
  },
  {
   "cell_type": "code",
   "execution_count": null,
   "metadata": {},
   "outputs": [],
   "source": [
    "u.text"
   ]
  },
  {
   "cell_type": "code",
   "execution_count": null,
   "metadata": {},
   "outputs": [],
   "source": []
  },
  {
   "cell_type": "code",
   "execution_count": null,
   "metadata": {},
   "outputs": [],
   "source": [
    "driver.find_element(By.CSS_SELECTOR, 'p.f4.text-normal.mb-1').text.split('\\n')"
   ]
  },
  {
   "cell_type": "code",
   "execution_count": null,
   "metadata": {},
   "outputs": [],
   "source": [
    "#driver.find_elements(By.CSS_SELECTOR, 'div.col-md-6')[0].text.split('\\n')"
   ]
  },
  {
   "cell_type": "code",
   "execution_count": null,
   "metadata": {},
   "outputs": [],
   "source": [
    "#driver.find_elements(By.CSS_SELECTOR, 'div.col-md-6')[0].text.split('\\n')"
   ]
  },
  {
   "cell_type": "code",
   "execution_count": null,
   "metadata": {},
   "outputs": [],
   "source": [
    "#lista = [e.text.split('\\n') for e in driver.find_elements(By.CSS_SELECTOR, 'div.col-md-6')]\n",
    "\n",
    "#lista"
   ]
  },
  {
   "cell_type": "code",
   "execution_count": null,
   "metadata": {},
   "outputs": [],
   "source": [
    "#[e for e in lista if len(e)<3]"
   ]
  },
  {
   "cell_type": "code",
   "execution_count": null,
   "metadata": {},
   "outputs": [],
   "source": []
  },
  {
   "cell_type": "code",
   "execution_count": null,
   "metadata": {},
   "outputs": [],
   "source": []
  },
  {
   "cell_type": "code",
   "execution_count": null,
   "metadata": {},
   "outputs": [],
   "source": [
    "driver.find_elements(By.XPATH, '//*[@id=\"pa-homanp\"]/div[2]/div[1]/div[1]')[0].text.split('\\n')"
   ]
  },
  {
   "cell_type": "code",
   "execution_count": null,
   "metadata": {},
   "outputs": [],
   "source": [
    "lista = [e.text.split('\\n') for e in driver.find_elements(By.XPATH, '//*[@id=\"pa-homanp\"]/div[2]/div[1]/div[1]')]\n",
    "\n",
    "lista"
   ]
  },
  {
   "cell_type": "code",
   "execution_count": null,
   "metadata": {},
   "outputs": [],
   "source": [
    "[e for e in lista if len(e)<3]"
   ]
  },
  {
   "cell_type": "code",
   "execution_count": null,
   "metadata": {},
   "outputs": [],
   "source": [
    "prueba = driver.find_elements(By.XPATH, '/html/body/div[1]/div[4]/main/div[3]/div/div[2]')"
   ]
  },
  {
   "cell_type": "code",
   "execution_count": null,
   "metadata": {},
   "outputs": [],
   "source": [
    "len(prueba)"
   ]
  },
  {
   "cell_type": "code",
   "execution_count": null,
   "metadata": {},
   "outputs": [],
   "source": [
    "type(prueba)"
   ]
  },
  {
   "cell_type": "code",
   "execution_count": null,
   "metadata": {},
   "outputs": [],
   "source": [
    "prueba [0].text.split('\\n')"
   ]
  },
  {
   "cell_type": "code",
   "execution_count": null,
   "metadata": {},
   "outputs": [],
   "source": [
    "elements = prueba [0].text.split('\\n')\n",
    "\n",
    "user_names = elements[1::2]  \n",
    "#github_usernames = elements[2::3]\n",
    "\n",
    "print (user_names) #github_usernames)"
   ]
  },
  {
   "cell_type": "code",
   "execution_count": null,
   "metadata": {},
   "outputs": [],
   "source": [
    "[e for e in elements if len(e)<[1::3]]"
   ]
  },
  {
   "cell_type": "code",
   "execution_count": null,
   "metadata": {},
   "outputs": [],
   "source": [
    "\n"
   ]
  },
  {
   "cell_type": "code",
   "execution_count": null,
   "metadata": {},
   "outputs": [],
   "source": [
    "\n",
    "# Append the result of prueba[0].text.split('\\n') to the elements list\n",
    "elements += prueba[0].text.split('\\n')\n",
    "\n",
    "# Find the positions of elements to be compared (every third element)\n",
    "positions_to_compare = range(0, len(elements), 3)\n",
    "\n",
    "filtered_elements = [elements[i] for i in range(len(elements)) if len(elements[i]) < len(elements[positions_to_compare[i // 3]])]\n",
    "\n",
    "print(filtered_elements)\n"
   ]
  },
  {
   "cell_type": "code",
   "execution_count": null,
   "metadata": {},
   "outputs": [],
   "source": [
    "Nombre = [e.text for e in driver.find_elements(By.XPATH, '//*[@id=\"pa-homanp\"]/div[2]/div[1]/div[1]')]\n",
    "\n",
    "Nombre"
   ]
  },
  {
   "cell_type": "code",
   "execution_count": null,
   "metadata": {},
   "outputs": [],
   "source": [
    "nombre = driver.find_elements(By.XPATH, '//*[@id=\"pa-homanp\"]/div[2]/div[1]/div[1]/h1')[0].text.split('\\n')\n",
    "\n",
    "nombre"
   ]
  },
  {
   "cell_type": "code",
   "execution_count": null,
   "metadata": {},
   "outputs": [],
   "source": [
    "username = driver.find_elements(By.XPATH, '//*[@id=\"pa-homanp\"]/div[2]/div[1]/div[1]/p')[0].text.split('\\n')\n",
    "\n",
    "username"
   ]
  },
  {
   "cell_type": "code",
   "execution_count": null,
   "metadata": {},
   "outputs": [],
   "source": [
    "nombre_user = driver.find_element(By.XPATH, '//*[@id=\"pa-homanp\"]/div[2]/div[1]/div[1]').text.split('\\n')\n",
    "\n",
    "nombre_user"
   ]
  },
  {
   "cell_type": "code",
   "execution_count": null,
   "metadata": {},
   "outputs": [],
   "source": [
    "elements = driver.find_elements(By.XPATH, '//*[@id=\"pa-homanp\"]/div[2]/div[1]/div[1]/*')\n",
    "text_list = [element.text for element in elements]\n",
    "\n",
    "text_list"
   ]
  },
  {
   "cell_type": "code",
   "execution_count": null,
   "metadata": {},
   "outputs": [],
   "source": []
  },
  {
   "cell_type": "code",
   "execution_count": null,
   "metadata": {},
   "outputs": [],
   "source": [
    "/html/body/div[1]/div[4]/main/div[3]/div/div[2]"
   ]
  },
  {
   "cell_type": "code",
   "execution_count": null,
   "metadata": {},
   "outputs": [],
   "source": [
    "len(Nombre)"
   ]
  },
  {
   "cell_type": "code",
   "execution_count": null,
   "metadata": {},
   "outputs": [],
   "source": []
  },
  {
   "cell_type": "code",
   "execution_count": null,
   "metadata": {},
   "outputs": [],
   "source": [
    "driver.find_elements(By.XPATH, '/html/body/div[1]/div[4]/main/div[3]/div')"
   ]
  },
  {
   "cell_type": "code",
   "execution_count": null,
   "metadata": {},
   "outputs": [],
   "source": [
    "len(driver.find_elements(By.XPATH, '/html/body/div[1]/div[4]/main/div[3]/div'))"
   ]
  },
  {
   "cell_type": "code",
   "execution_count": null,
   "metadata": {},
   "outputs": [],
   "source": []
  },
  {
   "cell_type": "code",
   "execution_count": null,
   "metadata": {},
   "outputs": [],
   "source": []
  },
  {
   "cell_type": "code",
   "execution_count": null,
   "metadata": {},
   "outputs": [],
   "source": [
    "#driver.find_elements(By.XPATH, '/html/body/div[1]/div[4]/main/div[3]') #[2].text.split('\\n')"
   ]
  },
  {
   "cell_type": "code",
   "execution_count": null,
   "metadata": {},
   "outputs": [],
   "source": [
    "len (driver.find_elements(By.XPATH, '/html/body/div[1]/div[4]/main/div[3]')) #[2].text.split('\\n'))"
   ]
  },
  {
   "cell_type": "code",
   "execution_count": null,
   "metadata": {},
   "outputs": [],
   "source": []
  },
  {
   "cell_type": "code",
   "execution_count": null,
   "metadata": {},
   "outputs": [],
   "source": [
    "css = '#pa-homanp > div.d-sm-flex.flex-auto > div.col-sm-8.d-md-flex > div:nth-child(1)'\n",
    "\n",
    "x = '//*[@id=\"pa-homanp\"]/div[2]/div[1]/div[1]'\n"
   ]
  },
  {
   "cell_type": "markdown",
   "metadata": {},
   "source": [
    "#### Display the trending Python repositories in GitHub\n",
    "\n",
    "The steps to solve this problem is similar to the previous one except that you need to find out the repository names instead of developer names."
   ]
  },
  {
   "cell_type": "markdown",
   "metadata": {},
   "source": []
  },
  {
   "cell_type": "code",
   "execution_count": null,
   "metadata": {},
   "outputs": [],
   "source": [
    "# This is the url you will scrape in this exercise\n",
    "url = 'https://github.com/trending/python?since=daily'"
   ]
  },
  {
   "cell_type": "code",
   "execution_count": null,
   "metadata": {},
   "outputs": [],
   "source": [
    "driver = webdriver.Chrome()\n",
    "\n",
    "driver.get(url)"
   ]
  },
  {
   "cell_type": "code",
   "execution_count": null,
   "metadata": {},
   "outputs": [],
   "source": [
    "driver.find_element(By.XPATH, '/html/body/div[1]/div[4]/main/div[3]/div/div[2]/article[1]/h2').text.split ('\\n')\n",
    "#driver.find_elements(By.CSS_SELECTOR, 'div.col-md-6')[0].text.split('\\n')"
   ]
  },
  {
   "cell_type": "code",
   "execution_count": null,
   "metadata": {},
   "outputs": [],
   "source": [
    "# Find all elements matching the given XPath\n",
    "elements = driver.find_elements(By.XPATH, '/html/body/div[1]/div[4]/main/div[3]/div/div[2]/article/h2')\n",
    "\n",
    "# Extract text from each element and split it by newline\n",
    "result_list = [element.text.split('\\n') for element in elements]\n",
    "\n",
    "# Now, result_list contains a list of results where each result corresponds to an element matching the XPath\n"
   ]
  },
  {
   "cell_type": "code",
   "execution_count": null,
   "metadata": {},
   "outputs": [],
   "source": [
    "result_list"
   ]
  },
  {
   "cell_type": "code",
   "execution_count": null,
   "metadata": {},
   "outputs": [],
   "source": []
  },
  {
   "cell_type": "markdown",
   "metadata": {},
   "source": [
    "#### Display all the image links from Walt Disney wikipedia page"
   ]
  },
  {
   "cell_type": "code",
   "execution_count": null,
   "metadata": {},
   "outputs": [],
   "source": [
    "# This is the url you will scrape in this exercise\n",
    "url_dis = 'https://en.wikipedia.org/wiki/Walt_Disney'"
   ]
  },
  {
   "cell_type": "code",
   "execution_count": null,
   "metadata": {},
   "outputs": [],
   "source": [
    "driver = webdriver.Chrome()\n",
    "\n",
    "driver.get(url_dis)"
   ]
  },
  {
   "cell_type": "code",
   "execution_count": null,
   "metadata": {},
   "outputs": [],
   "source": []
  },
  {
   "cell_type": "code",
   "execution_count": null,
   "metadata": {},
   "outputs": [],
   "source": [
    "dis = driver.find_elements(By.XPATH, '//img')\n",
    "\n",
    "dis"
   ]
  },
  {
   "cell_type": "code",
   "execution_count": null,
   "metadata": {},
   "outputs": [],
   "source": [
    "len(dis)\n",
    "\n",
    "type (dis)"
   ]
  },
  {
   "cell_type": "code",
   "execution_count": null,
   "metadata": {},
   "outputs": [],
   "source": [
    "image_src_list = [element.get_attribute(\"src\") for element in dis]\n",
    "\n",
    "for src in image_src_list:\n",
    "    print(src) #de las 5 a la menos 17.\n",
    "\n",
    "\n",
    "\n",
    "    image_src_list = [element.get_attribute(\"src\") for element in dis]\n",
    "\n",
    "# Print elements from index 5 to the 17th element from the end\n",
    "for src in image_src_list[5:-17]:\n",
    "    print(src)"
   ]
  },
  {
   "cell_type": "code",
   "execution_count": null,
   "metadata": {},
   "outputs": [],
   "source": [
    "from selenium import webdriver\n",
    "\n",
    "# Initialize a Selenium WebDriver (e.g., ChromeDriver)\n",
    "driver = webdriver.Chrome()\n",
    "\n",
    "# Navigate to the website\n",
    "driver.get('https://example.com')  # Replace with the URL of the website you want to scrape\n",
    "\n",
    "# Use XPath to find all image elements and extract their \"src\" attributes\n",
    "image_elements = driver.find_elements(By.XPATH, '//img')\n",
    "image_src_list = [element.get_attribute(\"src\") for element in image_elements]\n",
    "\n",
    "# Close the WebDriver when done\n",
    "driver.quit()\n",
    "\n",
    "# Print or process the list of image source URLs\n",
    "for src in image_src_list:\n",
    "    print(src)\n"
   ]
  },
  {
   "cell_type": "code",
   "execution_count": null,
   "metadata": {},
   "outputs": [],
   "source": []
  },
  {
   "cell_type": "markdown",
   "metadata": {},
   "source": [
    "#### Retrieve an arbitary Wikipedia page of \"Python\" and create a list of links on that page"
   ]
  },
  {
   "cell_type": "code",
   "execution_count": 3,
   "metadata": {},
   "outputs": [],
   "source": [
    "# This is the url you will scrape in this exercise\n",
    "url_py ='https://en.wikipedia.org/wiki/Python' \n",
    "\n",
    "driver = webdriver.Chrome()\n",
    "\n",
    "driver.get(url_py)"
   ]
  },
  {
   "cell_type": "code",
   "execution_count": 4,
   "metadata": {},
   "outputs": [
    {
     "data": {
      "text/plain": [
       "<selenium.webdriver.remote.webelement.WebElement (session=\"ba6f1f3f06fc63c978c379b219699c69\", element=\"B564A13DB3908CCF5CFCC547FD756231_element_21\")>"
      ]
     },
     "execution_count": 4,
     "metadata": {},
     "output_type": "execute_result"
    }
   ],
   "source": [
    "snake = driver.find_element(By.XPATH, '//*[@id=\"mw-content-text\"]/div[1]')\n",
    "\n",
    "snake"
   ]
  },
  {
   "cell_type": "code",
   "execution_count": 7,
   "metadata": {},
   "outputs": [
    {
     "data": {
      "text/plain": [
       "[<selenium.webdriver.remote.webelement.WebElement (session=\"ba6f1f3f06fc63c978c379b219699c69\", element=\"B564A13DB3908CCF5CFCC547FD756231_element_495\")>,\n",
       " <selenium.webdriver.remote.webelement.WebElement (session=\"ba6f1f3f06fc63c978c379b219699c69\", element=\"B564A13DB3908CCF5CFCC547FD756231_element_500\")>,\n",
       " <selenium.webdriver.remote.webelement.WebElement (session=\"ba6f1f3f06fc63c978c379b219699c69\", element=\"B564A13DB3908CCF5CFCC547FD756231_element_514\")>,\n",
       " <selenium.webdriver.remote.webelement.WebElement (session=\"ba6f1f3f06fc63c978c379b219699c69\", element=\"B564A13DB3908CCF5CFCC547FD756231_element_196\")>,\n",
       " <selenium.webdriver.remote.webelement.WebElement (session=\"ba6f1f3f06fc63c978c379b219699c69\", element=\"B564A13DB3908CCF5CFCC547FD756231_element_522\")>,\n",
       " <selenium.webdriver.remote.webelement.WebElement (session=\"ba6f1f3f06fc63c978c379b219699c69\", element=\"B564A13DB3908CCF5CFCC547FD756231_element_201\")>,\n",
       " <selenium.webdriver.remote.webelement.WebElement (session=\"ba6f1f3f06fc63c978c379b219699c69\", element=\"B564A13DB3908CCF5CFCC547FD756231_element_532\")>,\n",
       " <selenium.webdriver.remote.webelement.WebElement (session=\"ba6f1f3f06fc63c978c379b219699c69\", element=\"B564A13DB3908CCF5CFCC547FD756231_element_538\")>,\n",
       " <selenium.webdriver.remote.webelement.WebElement (session=\"ba6f1f3f06fc63c978c379b219699c69\", element=\"B564A13DB3908CCF5CFCC547FD756231_element_543\")>,\n",
       " <selenium.webdriver.remote.webelement.WebElement (session=\"ba6f1f3f06fc63c978c379b219699c69\", element=\"B564A13DB3908CCF5CFCC547FD756231_element_548\")>,\n",
       " <selenium.webdriver.remote.webelement.WebElement (session=\"ba6f1f3f06fc63c978c379b219699c69\", element=\"B564A13DB3908CCF5CFCC547FD756231_element_558\")>,\n",
       " <selenium.webdriver.remote.webelement.WebElement (session=\"ba6f1f3f06fc63c978c379b219699c69\", element=\"B564A13DB3908CCF5CFCC547FD756231_element_564\")>,\n",
       " <selenium.webdriver.remote.webelement.WebElement (session=\"ba6f1f3f06fc63c978c379b219699c69\", element=\"B564A13DB3908CCF5CFCC547FD756231_element_569\")>,\n",
       " <selenium.webdriver.remote.webelement.WebElement (session=\"ba6f1f3f06fc63c978c379b219699c69\", element=\"B564A13DB3908CCF5CFCC547FD756231_element_574\")>,\n",
       " <selenium.webdriver.remote.webelement.WebElement (session=\"ba6f1f3f06fc63c978c379b219699c69\", element=\"B564A13DB3908CCF5CFCC547FD756231_element_579\")>,\n",
       " <selenium.webdriver.remote.webelement.WebElement (session=\"ba6f1f3f06fc63c978c379b219699c69\", element=\"B564A13DB3908CCF5CFCC547FD756231_element_584\")>,\n",
       " <selenium.webdriver.remote.webelement.WebElement (session=\"ba6f1f3f06fc63c978c379b219699c69\", element=\"B564A13DB3908CCF5CFCC547FD756231_element_594\")>,\n",
       " <selenium.webdriver.remote.webelement.WebElement (session=\"ba6f1f3f06fc63c978c379b219699c69\", element=\"B564A13DB3908CCF5CFCC547FD756231_element_600\")>,\n",
       " <selenium.webdriver.remote.webelement.WebElement (session=\"ba6f1f3f06fc63c978c379b219699c69\", element=\"B564A13DB3908CCF5CFCC547FD756231_element_605\")>,\n",
       " <selenium.webdriver.remote.webelement.WebElement (session=\"ba6f1f3f06fc63c978c379b219699c69\", element=\"B564A13DB3908CCF5CFCC547FD756231_element_609\")>,\n",
       " <selenium.webdriver.remote.webelement.WebElement (session=\"ba6f1f3f06fc63c978c379b219699c69\", element=\"B564A13DB3908CCF5CFCC547FD756231_element_619\")>,\n",
       " <selenium.webdriver.remote.webelement.WebElement (session=\"ba6f1f3f06fc63c978c379b219699c69\", element=\"B564A13DB3908CCF5CFCC547FD756231_element_625\")>,\n",
       " <selenium.webdriver.remote.webelement.WebElement (session=\"ba6f1f3f06fc63c978c379b219699c69\", element=\"B564A13DB3908CCF5CFCC547FD756231_element_630\")>,\n",
       " <selenium.webdriver.remote.webelement.WebElement (session=\"ba6f1f3f06fc63c978c379b219699c69\", element=\"B564A13DB3908CCF5CFCC547FD756231_element_640\")>,\n",
       " <selenium.webdriver.remote.webelement.WebElement (session=\"ba6f1f3f06fc63c978c379b219699c69\", element=\"B564A13DB3908CCF5CFCC547FD756231_element_646\")>,\n",
       " <selenium.webdriver.remote.webelement.WebElement (session=\"ba6f1f3f06fc63c978c379b219699c69\", element=\"B564A13DB3908CCF5CFCC547FD756231_element_651\")>,\n",
       " <selenium.webdriver.remote.webelement.WebElement (session=\"ba6f1f3f06fc63c978c379b219699c69\", element=\"B564A13DB3908CCF5CFCC547FD756231_element_656\")>,\n",
       " <selenium.webdriver.remote.webelement.WebElement (session=\"ba6f1f3f06fc63c978c379b219699c69\", element=\"B564A13DB3908CCF5CFCC547FD756231_element_666\")>,\n",
       " <selenium.webdriver.remote.webelement.WebElement (session=\"ba6f1f3f06fc63c978c379b219699c69\", element=\"B564A13DB3908CCF5CFCC547FD756231_element_672\")>,\n",
       " <selenium.webdriver.remote.webelement.WebElement (session=\"ba6f1f3f06fc63c978c379b219699c69\", element=\"B564A13DB3908CCF5CFCC547FD756231_element_679\")>,\n",
       " <selenium.webdriver.remote.webelement.WebElement (session=\"ba6f1f3f06fc63c978c379b219699c69\", element=\"B564A13DB3908CCF5CFCC547FD756231_element_684\")>,\n",
       " <selenium.webdriver.remote.webelement.WebElement (session=\"ba6f1f3f06fc63c978c379b219699c69\", element=\"B564A13DB3908CCF5CFCC547FD756231_element_688\")>,\n",
       " <selenium.webdriver.remote.webelement.WebElement (session=\"ba6f1f3f06fc63c978c379b219699c69\", element=\"B564A13DB3908CCF5CFCC547FD756231_element_698\")>,\n",
       " <selenium.webdriver.remote.webelement.WebElement (session=\"ba6f1f3f06fc63c978c379b219699c69\", element=\"B564A13DB3908CCF5CFCC547FD756231_element_707\")>,\n",
       " <selenium.webdriver.remote.webelement.WebElement (session=\"ba6f1f3f06fc63c978c379b219699c69\", element=\"B564A13DB3908CCF5CFCC547FD756231_element_713\")>,\n",
       " <selenium.webdriver.remote.webelement.WebElement (session=\"ba6f1f3f06fc63c978c379b219699c69\", element=\"B564A13DB3908CCF5CFCC547FD756231_element_719\")>,\n",
       " <selenium.webdriver.remote.webelement.WebElement (session=\"ba6f1f3f06fc63c978c379b219699c69\", element=\"B564A13DB3908CCF5CFCC547FD756231_element_723\")>,\n",
       " <selenium.webdriver.remote.webelement.WebElement (session=\"ba6f1f3f06fc63c978c379b219699c69\", element=\"B564A13DB3908CCF5CFCC547FD756231_element_727\")>,\n",
       " <selenium.webdriver.remote.webelement.WebElement (session=\"ba6f1f3f06fc63c978c379b219699c69\", element=\"B564A13DB3908CCF5CFCC547FD756231_element_735\")>]"
      ]
     },
     "execution_count": 7,
     "metadata": {},
     "output_type": "execute_result"
    }
   ],
   "source": [
    "snake_links = snake.find_elements(By.TAG_NAME, 'a') #todos los links que están dentro de snake\n",
    "\n",
    "snake_links"
   ]
  },
  {
   "cell_type": "code",
   "execution_count": 10,
   "metadata": {},
   "outputs": [
    {
     "name": "stdout",
     "output_type": "stream",
     "text": [
      "https://en.wiktionary.org/wiki/Python\n",
      "https://en.wiktionary.org/wiki/python\n",
      "https://en.wikipedia.org/w/index.php?title=Python&action=edit&section=1&editintro=Template:Disambig_editintro\n",
      "https://en.wikipedia.org/wiki/Pythonidae\n",
      "https://en.wikipedia.org/wiki/Python_(genus)\n",
      "https://en.wikipedia.org/wiki/Python_(mythology)\n",
      "https://en.wikipedia.org/w/index.php?title=Python&action=edit&section=2&editintro=Template:Disambig_editintro\n",
      "https://en.wikipedia.org/wiki/Python_(programming_language)\n",
      "https://en.wikipedia.org/wiki/CMU_Common_Lisp\n",
      "https://en.wikipedia.org/wiki/PERQ#PERQ_3\n",
      "https://en.wikipedia.org/w/index.php?title=Python&action=edit&section=3&editintro=Template:Disambig_editintro\n",
      "https://en.wikipedia.org/wiki/Python_of_Aenus\n",
      "https://en.wikipedia.org/wiki/Python_(painter)\n",
      "https://en.wikipedia.org/wiki/Python_of_Byzantium\n",
      "https://en.wikipedia.org/wiki/Python_of_Catana\n",
      "https://en.wikipedia.org/wiki/Python_Anghelo\n",
      "https://en.wikipedia.org/w/index.php?title=Python&action=edit&section=4&editintro=Template:Disambig_editintro\n",
      "https://en.wikipedia.org/wiki/Python_(Efteling)\n",
      "https://en.wikipedia.org/wiki/Python_(Busch_Gardens_Tampa_Bay)\n",
      "https://en.wikipedia.org/wiki/Python_(Coney_Island,_Cincinnati,_Ohio)\n",
      "https://en.wikipedia.org/w/index.php?title=Python&action=edit&section=5&editintro=Template:Disambig_editintro\n",
      "https://en.wikipedia.org/wiki/Python_(automobile_maker)\n",
      "https://en.wikipedia.org/wiki/Python_(Ford_prototype)\n",
      "https://en.wikipedia.org/w/index.php?title=Python&action=edit&section=6&editintro=Template:Disambig_editintro\n",
      "https://en.wikipedia.org/wiki/Python_(missile)\n",
      "https://en.wikipedia.org/wiki/Python_(nuclear_primary)\n",
      "https://en.wikipedia.org/wiki/Colt_Python\n",
      "https://en.wikipedia.org/w/index.php?title=Python&action=edit&section=7&editintro=Template:Disambig_editintro\n",
      "https://en.wikipedia.org/wiki/Python_(codename)\n",
      "https://en.wikipedia.org/wiki/Python_(film)\n",
      "https://en.wikipedia.org/wiki/Monty_Python\n",
      "https://en.wikipedia.org/wiki/Python_(Monty)_Pictures\n",
      "https://en.wikipedia.org/wiki/Timon_of_Phlius\n",
      "https://en.wikipedia.org/w/index.php?title=Python&action=edit&section=8&editintro=Template:Disambig_editintro\n",
      "https://en.wikipedia.org/wiki/Pyton\n",
      "https://en.wikipedia.org/wiki/Pithon\n",
      "https://en.wikipedia.org/wiki/File:Disambig_gray.svg\n",
      "https://en.wikipedia.org/wiki/Help:Disambiguation\n",
      "https://en.wikipedia.org/w/index.php?title=Special:WhatLinksHere/Python&namespace=0\n"
     ]
    }
   ],
   "source": [
    "snake_links_list = [elements.get_attribute('href')for elements in snake_links]\n",
    "\n",
    "for a in snake_links_list:\n",
    "    print(a)"
   ]
  },
  {
   "cell_type": "code",
   "execution_count": null,
   "metadata": {},
   "outputs": [],
   "source": [
    "driver.quit"
   ]
  },
  {
   "cell_type": "code",
   "execution_count": null,
   "metadata": {},
   "outputs": [],
   "source": [
    "image_src_list = [element.get_attribute(\"src\") for element in dis]\n",
    "\n",
    "for src in image_src_list:\n",
    "    print(src)"
   ]
  },
  {
   "cell_type": "code",
   "execution_count": null,
   "metadata": {},
   "outputs": [],
   "source": [
    "text = py[0].text\n",
    "text"
   ]
  },
  {
   "cell_type": "code",
   "execution_count": null,
   "metadata": {},
   "outputs": [],
   "source": [
    "image_py = [element.get_attribute(\"src\") for element in dis]\n",
    "\n",
    "for src in image_src_list:\n",
    "    print(src) #de las 5 a la menos 17."
   ]
  },
  {
   "cell_type": "code",
   "execution_count": null,
   "metadata": {},
   "outputs": [],
   "source": [
    "//*[@id=\"mw-content-text\"]/div[1]/ul[1]/li[1]/a\n",
    "//*[@id=\"mw-content-text\"]/div[1]/ul[1]/li[1]/ul/li/a\n",
    "//*[@id=\"mw-content-text\"]/div[1]/ul[1]/li[2]/a"
   ]
  },
  {
   "cell_type": "markdown",
   "metadata": {},
   "source": []
  },
  {
   "cell_type": "markdown",
   "metadata": {},
   "source": [
    "#### Number of Titles that have changed in the United States Code since its last release point "
   ]
  },
  {
   "cell_type": "code",
   "execution_count": null,
   "metadata": {},
   "outputs": [],
   "source": [
    "# This is the url you will scrape in this exercise\n",
    "url_ti = 'http://uscode.house.gov/download/download.shtml'"
   ]
  },
  {
   "cell_type": "code",
   "execution_count": null,
   "metadata": {},
   "outputs": [],
   "source": [
    "driver = webdriver.Chrome()\n",
    "\n",
    "driver.get(url_ti)"
   ]
  },
  {
   "cell_type": "code",
   "execution_count": null,
   "metadata": {},
   "outputs": [],
   "source": [
    "ti = driver.find_elements(By.CLASS_NAME, 'usctitlechanged')\n",
    "\n",
    "ti"
   ]
  },
  {
   "cell_type": "code",
   "execution_count": null,
   "metadata": {},
   "outputs": [],
   "source": [
    "for e in ti:\n",
    "    print (e.text)\n",
    "    "
   ]
  },
  {
   "cell_type": "markdown",
   "metadata": {},
   "source": [
    "####  20 latest earthquakes info (date, time, latitude, longitude and region name) by the EMSC as a pandas dataframe"
   ]
  },
  {
   "cell_type": "code",
   "execution_count": null,
   "metadata": {},
   "outputs": [],
   "source": [
    "# This is the url you will scrape in this exercise\n",
    "url_quake = 'https://www.emsc-csem.org/Earthquake/'"
   ]
  },
  {
   "cell_type": "code",
   "execution_count": null,
   "metadata": {},
   "outputs": [],
   "source": [
    "driver = webdriver.Chrome()\n",
    "\n",
    "driver.get(url_quake)"
   ]
  },
  {
   "cell_type": "code",
   "execution_count": null,
   "metadata": {},
   "outputs": [],
   "source": [
    "quake = driver.find_element(By.XPATH, '/html/body/div[3]/div[6]/table')\n",
    "\n",
    "quake\n"
   ]
  },
  {
   "cell_type": "code",
   "execution_count": null,
   "metadata": {},
   "outputs": [],
   "source": [
    "quake_body = quake.find_element(By.TAG_NAME, 'tbody').find_elements(By.CSS_SELECTOR, 'tr')\n",
    "\n",
    "quake_body\n"
   ]
  },
  {
   "cell_type": "code",
   "execution_count": null,
   "metadata": {},
   "outputs": [],
   "source": [
    "quake_body"
   ]
  },
  {
   "cell_type": "code",
   "execution_count": null,
   "metadata": {},
   "outputs": [],
   "source": []
  },
  {
   "cell_type": "code",
   "execution_count": null,
   "metadata": {},
   "outputs": [],
   "source": [
    "matriz = []\n",
    "\n",
    "\n",
    "for f in quake_body:\n",
    "    \n",
    "    tmp = []\n",
    "    \n",
    "    elems = f.find_elements(By.TAG_NAME, 'td')  # esto es una lista\n",
    "    \n",
    "    for e in elems:\n",
    "        \n",
    "        tmp.append(e.text)\n",
    "        \n",
    "    matriz.append(tmp)"
   ]
  },
  {
   "cell_type": "code",
   "execution_count": null,
   "metadata": {},
   "outputs": [],
   "source": [
    "matriz"
   ]
  },
  {
   "cell_type": "code",
   "execution_count": null,
   "metadata": {},
   "outputs": [],
   "source": [
    "import pandas as pd"
   ]
  },
  {
   "cell_type": "code",
   "execution_count": null,
   "metadata": {},
   "outputs": [],
   "source": [
    "columns = ['0','1','2','3','4','5','6','7','8','9']\n",
    "\n",
    "quakedf = pd.DataFrame(matriz,columns= columns)"
   ]
  },
  {
   "cell_type": "code",
   "execution_count": null,
   "metadata": {},
   "outputs": [],
   "source": [
    "quakedf.columns\n",
    "\n",
    "quake2=quakedf.drop(['0','1','2','7'], axis=1)\n",
    "\n",
    "quake2"
   ]
  },
  {
   "cell_type": "code",
   "execution_count": null,
   "metadata": {},
   "outputs": [],
   "source": [
    "len(df_quake.columns)"
   ]
  },
  {
   "cell_type": "code",
   "execution_count": null,
   "metadata": {},
   "outputs": [],
   "source": [
    "\n",
    "df_quake.rename(columns={'0': '0', '1': '1', '2': '2', '3': 'Date', '5': 'Lat', '6': 'Lon', '7': 'Depth', '7': '7', '8': 'Magn', '9': 'Location'}, inplace=True)\n",
    "\n",
    "\n",
    "df_quake"
   ]
  },
  {
   "cell_type": "code",
   "execution_count": null,
   "metadata": {},
   "outputs": [],
   "source": []
  },
  {
   "cell_type": "code",
   "execution_count": null,
   "metadata": {},
   "outputs": [],
   "source": [
    "tabla_quake = quake.text.split('\\n')\n",
    "\n",
    "tabla_quake = [e.split() for e in tabla_quake]\n",
    "\n",
    "tabla_quake"
   ]
  },
  {
   "cell_type": "code",
   "execution_count": null,
   "metadata": {},
   "outputs": [],
   "source": [
    "import pandas as pd\n",
    "\n",
    "pd.DataFrame(tabla_quake)"
   ]
  },
  {
   "cell_type": "code",
   "execution_count": null,
   "metadata": {},
   "outputs": [],
   "source": []
  },
  {
   "cell_type": "code",
   "execution_count": null,
   "metadata": {},
   "outputs": [],
   "source": []
  },
  {
   "cell_type": "code",
   "execution_count": null,
   "metadata": {},
   "outputs": [],
   "source": [
    "type(quake)"
   ]
  },
  {
   "cell_type": "markdown",
   "metadata": {},
   "source": [
    "#### Count number of tweets by a given Twitter account."
   ]
  },
  {
   "cell_type": "code",
   "execution_count": null,
   "metadata": {},
   "outputs": [],
   "source": [
    "# This is the url you will scrape in this exercise \n",
    "# You will need to add the account credentials to this url\n",
    "url_x= 'https://twitter.com/edgar_am23'"
   ]
  },
  {
   "cell_type": "code",
   "execution_count": null,
   "metadata": {},
   "outputs": [],
   "source": [
    "driver = webdriver.Chrome()\n",
    "\n",
    "driver.get(url_x)"
   ]
  },
  {
   "cell_type": "code",
   "execution_count": null,
   "metadata": {},
   "outputs": [],
   "source": [
    "x_tw = driver.find_element(By.CSS_SELECTOR, '#react-root > div > div > div.css-1dbjc4n.r-18u37iz.r-13qz1uu.r-417010 > main > div > div > div > div > div > div.css-1dbjc4n.r-aqfbo4.r-gtdqiz.r-1gn8etr.r-1g40b8q > div:nth-child(1) > div > div > div > div > div > div.css-1dbjc4n.r-16y2uox.r-1wbh5a2.r-1pi2tsx.r-1777fci > div > div')\n",
    "\n",
    "x_tw.text"
   ]
  },
  {
   "cell_type": "markdown",
   "metadata": {},
   "source": [
    "#### Number of followers of a given twitter account"
   ]
  },
  {
   "cell_type": "markdown",
   "metadata": {},
   "source": []
  },
  {
   "cell_type": "markdown",
   "metadata": {},
   "source": [
    "You will need to include a ***try/except block*** in case account/s name not found. \n",
    "<br>***Hint:*** the program should count the followers for any provided account"
   ]
  },
  {
   "cell_type": "code",
   "execution_count": null,
   "metadata": {},
   "outputs": [],
   "source": [
    "url_x= 'https://twitter.com/edgar_am23'\n",
    "\n",
    "driver = webdriver.Chrome()\n",
    "\n",
    "driver.get(url_x)"
   ]
  },
  {
   "cell_type": "code",
   "execution_count": null,
   "metadata": {},
   "outputs": [],
   "source": [
    "x_tw_f = driver.find_element(By.CSS_SELECTOR, '#react-root > div > div > div.css-1dbjc4n.r-18u37iz.r-13qz1uu.r-417010 > main > div > div > div > div > div > div:nth-child(3) > div > div > div:nth-child(1) > div > div.css-1dbjc4n.r-13awgt0.r-18u37iz.r-1w6e6rj > div:nth-child(2) > div')\n",
    "\n",
    "x_tw_f.text"
   ]
  },
  {
   "cell_type": "markdown",
   "metadata": {},
   "source": [
    "#### List all language names and number of related articles in the order they appear in wikipedia.org"
   ]
  },
  {
   "cell_type": "markdown",
   "metadata": {},
   "source": []
  },
  {
   "cell_type": "code",
   "execution_count": null,
   "metadata": {},
   "outputs": [],
   "source": [
    "# This is the url you will scrape in this exercise\n",
    "url_wiki= 'https://www.wikipedia.org/'"
   ]
  },
  {
   "cell_type": "code",
   "execution_count": null,
   "metadata": {},
   "outputs": [],
   "source": [
    "driver = webdriver.Chrome()\n",
    "\n",
    "driver.get(url_wiki)"
   ]
  },
  {
   "cell_type": "code",
   "execution_count": null,
   "metadata": {},
   "outputs": [],
   "source": [
    "wiki = driver.find_element(By.CSS_SELECTOR, '#www-wikipedia-org > div.central-featured').find_elements(By.TAG_NAME, 'a')\n",
    "\n",
    "type(wiki)"
   ]
  },
  {
   "cell_type": "code",
   "execution_count": null,
   "metadata": {},
   "outputs": [],
   "source": [
    "for element in wiki:\n",
    "    print(element.text)\n"
   ]
  },
  {
   "cell_type": "markdown",
   "metadata": {},
   "source": []
  },
  {
   "cell_type": "markdown",
   "metadata": {},
   "source": [
    "#### A list with the different kind of datasets available in data.gov.uk "
   ]
  },
  {
   "cell_type": "code",
   "execution_count": null,
   "metadata": {},
   "outputs": [],
   "source": [
    "# This is the url you will scrape in this exercise\n",
    "url_uk= 'https://data.gov.uk/'"
   ]
  },
  {
   "cell_type": "code",
   "execution_count": null,
   "metadata": {},
   "outputs": [],
   "source": [
    "driver = webdriver.Chrome()\n",
    "\n",
    "driver.get(url_uk)"
   ]
  },
  {
   "cell_type": "code",
   "execution_count": null,
   "metadata": {},
   "outputs": [],
   "source": [
    "uk = driver.find_element(By.CSS_SELECTOR, '#main-content > div:nth-child(3) > div > ul').find_elements(By.TAG_NAME, 'a')\n",
    "\n",
    "uk"
   ]
  },
  {
   "cell_type": "code",
   "execution_count": null,
   "metadata": {},
   "outputs": [],
   "source": [
    "for q in uk:\n",
    "    print(q.text)"
   ]
  },
  {
   "cell_type": "markdown",
   "metadata": {},
   "source": [
    "#### Top 10 languages by number of native speakers stored in a Pandas Dataframe"
   ]
  },
  {
   "cell_type": "code",
   "execution_count": null,
   "metadata": {},
   "outputs": [],
   "source": [
    "# This is the url you will scrape in this exercise\n",
    "url_leng= 'https://en.wikipedia.org/wiki/List_of_languages_by_number_of_native_speakers'\n",
    "\n",
    "driver = webdriver.Chrome()\n",
    "\n",
    "driver.get(url_leng)"
   ]
  },
  {
   "cell_type": "code",
   "execution_count": null,
   "metadata": {},
   "outputs": [],
   "source": [
    "url_leng = driver.find_element(By.XPATH, '//*[@id=\"mw-content-text\"]/div[1]/table[1]').find_element(By.TAG_NAME, 'tbody').find_elements(By.TAG_NAME, 'tr')\n",
    "\n",
    "url_leng"
   ]
  },
  {
   "cell_type": "code",
   "execution_count": null,
   "metadata": {},
   "outputs": [],
   "source": [
    "for a in url_leng:\n",
    "    print (a.text)"
   ]
  },
  {
   "cell_type": "code",
   "execution_count": null,
   "metadata": {},
   "outputs": [],
   "source": []
  },
  {
   "cell_type": "code",
   "execution_count": null,
   "metadata": {},
   "outputs": [],
   "source": [
    "tabla3 = a.text.split('\\n')\n",
    "\n",
    "tabla3 = [e.split() for e in tabla3]\n",
    "\n",
    "tabla3"
   ]
  },
  {
   "cell_type": "code",
   "execution_count": null,
   "metadata": {},
   "outputs": [],
   "source": [
    "import pandas as pd\n",
    "\n",
    "pd.DataFrame(tabla3)\n"
   ]
  },
  {
   "cell_type": "code",
   "execution_count": null,
   "metadata": {},
   "outputs": [],
   "source": []
  },
  {
   "cell_type": "code",
   "execution_count": null,
   "metadata": {},
   "outputs": [],
   "source": [
    "# This is the url you will scrape in this exercise\n",
    "url = 'https://www.fbi.gov/wanted/topten'"
   ]
  },
  {
   "cell_type": "code",
   "execution_count": null,
   "metadata": {},
   "outputs": [],
   "source": [
    "url_fbi= 'https://www.fbi.gov/wanted/topten'\n",
    "\n",
    "driver = webdriver.Chrome()\n",
    "\n",
    "driver.get(url_fbi)"
   ]
  },
  {
   "cell_type": "code",
   "execution_count": null,
   "metadata": {},
   "outputs": [],
   "source": [
    "url_fbi = driver.find_element(By.CSS_SELECTOR, '#query-results-0f737222c5054a81a120bce207b0446a').find_elements(By.TAG_NAME, 'a')\n",
    "\n",
    "url_fbi"
   ]
  },
  {
   "cell_type": "code",
   "execution_count": null,
   "metadata": {},
   "outputs": [],
   "source": [
    "for f in url_fbi:\n",
    "    print (f.text)"
   ]
  },
  {
   "cell_type": "code",
   "execution_count": null,
   "metadata": {},
   "outputs": [],
   "source": [
    "# This is the url you will scrape in this exercise\n",
    "url_py ='https://en.wikipedia.org/wiki/Python' \n",
    "\n",
    "driver = webdriver.Chrome()\n",
    "\n",
    "driver.get(url_py)"
   ]
  },
  {
   "cell_type": "code",
   "execution_count": null,
   "metadata": {},
   "outputs": [],
   "source": []
  },
  {
   "cell_type": "code",
   "execution_count": null,
   "metadata": {},
   "outputs": [],
   "source": []
  },
  {
   "cell_type": "code",
   "execution_count": null,
   "metadata": {},
   "outputs": [],
   "source": []
  },
  {
   "cell_type": "code",
   "execution_count": null,
   "metadata": {},
   "outputs": [],
   "source": []
  },
  {
   "cell_type": "code",
   "execution_count": null,
   "metadata": {},
   "outputs": [],
   "source": []
  }
 ],
 "metadata": {
  "kernelspec": {
   "display_name": "clase",
   "language": "python",
   "name": "clase"
  },
  "language_info": {
   "codemirror_mode": {
    "name": "ipython",
    "version": 3
   },
   "file_extension": ".py",
   "mimetype": "text/x-python",
   "name": "python",
   "nbconvert_exporter": "python",
   "pygments_lexer": "ipython3",
   "version": "3.10.13"
  }
 },
 "nbformat": 4,
 "nbformat_minor": 2
}
